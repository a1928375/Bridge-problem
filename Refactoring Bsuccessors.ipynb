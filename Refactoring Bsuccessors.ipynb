{
 "cells": [
  {
   "cell_type": "markdown",
   "metadata": {},
   "source": [
    "# Instructor\n",
    "# Make bsuccessors more concise and clear"
   ]
  },
  {
   "cell_type": "code",
   "execution_count": 1,
   "metadata": {},
   "outputs": [
    {
     "name": "stdout",
     "output_type": "stream",
     "text": [
      "True\n",
      "True\n",
      "True\n"
     ]
    }
   ],
   "source": [
    "# In this problem you will be refactoring the bsuccessors function. Your new function, bsuccessors3, will take a state as an \n",
    "# input and return a dict of {state:action} pairs.\n",
    "\n",
    "# A state is a (here, there, light) tuple. Here and there are frozensets of people (each person is represented by an integer\n",
    "# which corresponds to their travel time), and light is 0 if it is on the `here` side and 1 if it is on the `there` side.\n",
    "\n",
    "# An action is a tuple of (travelers, arrow), where the arrow is '->' or '<-'. See the test() function below for some examples\n",
    "# of what your function's input and output should look like.\n",
    "\n",
    "def bsuccessors3(state):\n",
    "    \"\"\"Return a dict of {state:action} pairs. State is (here, there, light) where here and there are frozen sets of people, \n",
    "    light is 0 if the light is on the here side and 1 if it is on the there side. Action is a tuple (travelers, arrow) where \n",
    "    arrow is '->' or '<-'\"\"\"\n",
    "    \n",
    "    _, _, light = state                                  #先把light抓出來\n",
    "\n",
    "    def _bsuccessors3(travelers):\n",
    "        \n",
    "        start = state[light] - travelers                 # start差集travelers，travelers就是set([a, b])\n",
    "                                                         \n",
    "        dest = state[1-light] | travelers                # dest聯集travelers，travelers就是set([a, b])\n",
    "        \n",
    "        if light == 0:                                   # light在here => return (start, dest,  1), (travelers, \"->\")\n",
    "            \n",
    "            return (start, dest,  1), (travelers, \"->\")\n",
    "        \n",
    "        else:                                            # light在there => return (dest,  start, 0), (travelers, \"<-\")\n",
    "            \n",
    "            return (dest,  start, 0), (travelers, \"<-\")  #注意，start & dest要對調，因為上面的start & dest是用light來判定\n",
    "                                                         #所以light在there => dest就是實際上的start side\n",
    "\n",
    "    return dict(_bsuccessors3(set([a, b]))\n",
    "                for a in state[light]                    #這裡very clever => light == 0 => 就代表light在here => state[light] == state[0] => 就是代表here \n",
    "                for b in state[light])                   # light == 1 => 就代表light在there => state[light] == state[1] => 就是代表there\n",
    "\n",
    "print (bsuccessors3((frozenset([1]), frozenset([]), 0)) == {\n",
    "                    (frozenset([]), frozenset([1]), 1)  :  (set([1]), '->')})\n",
    "\n",
    "print (bsuccessors3((frozenset([1, 2]), frozenset([]), 0)) == {\n",
    "                    (frozenset([1]), frozenset([2]), 1)    :  (set([2]), '->'),\n",
    "                    (frozenset([]), frozenset([1, 2]), 1)  :  (set([1, 2]), '->'),\n",
    "                    (frozenset([2]), frozenset([1]), 1)    :  (set([1]), '->')})\n",
    "\n",
    "print (bsuccessors3((frozenset([2, 4]), frozenset([3, 5]), 1)) == {\n",
    "                    (frozenset([2, 4, 5]), frozenset([3]), 0)   :  (set([5]), '<-'),\n",
    "                    (frozenset([2, 3, 4, 5]), frozenset([]), 0) :  (set([3, 5]), '<-'),\n",
    "                    (frozenset([2, 3, 4]), frozenset([5]), 0)   :  (set([3]), '<-')})"
   ]
  },
  {
   "cell_type": "code",
   "execution_count": null,
   "metadata": {},
   "outputs": [],
   "source": []
  }
 ],
 "metadata": {
  "kernelspec": {
   "display_name": "Python 3",
   "language": "python",
   "name": "python3"
  },
  "language_info": {
   "codemirror_mode": {
    "name": "ipython",
    "version": 3
   },
   "file_extension": ".py",
   "mimetype": "text/x-python",
   "name": "python",
   "nbconvert_exporter": "python",
   "pygments_lexer": "ipython3",
   "version": "3.7.3"
  }
 },
 "nbformat": 4,
 "nbformat_minor": 2
}
